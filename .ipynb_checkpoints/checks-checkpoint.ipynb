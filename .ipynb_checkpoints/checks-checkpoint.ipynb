{
 "cells": [
  {
   "cell_type": "code",
   "execution_count": 1,
   "metadata": {},
   "outputs": [
    {
     "data": {
      "application/javascript": [
       "\n",
       "            setTimeout(function() {\n",
       "                var nbb_cell_id = 1;\n",
       "                var nbb_unformatted_code = \"import numpy as np\\nimport graphtools\\nimport tasklogger\\nfrom collections import defaultdict\\nfrom scipy.spatial.distance import pdist, cdist, squareform\\nimport sklearn\\nimport vne\\nimport warnings\\n\\nwarnings.simplefilter(\\\"ignore\\\")\\nimport collections\\n\\n%load_ext nb_black\";\n",
       "                var nbb_formatted_code = \"import numpy as np\\nimport graphtools\\nimport tasklogger\\nfrom collections import defaultdict\\nfrom scipy.spatial.distance import pdist, cdist, squareform\\nimport sklearn\\nimport vne\\nimport warnings\\n\\nwarnings.simplefilter(\\\"ignore\\\")\\nimport collections\\n\\n%load_ext nb_black\";\n",
       "                var nbb_cells = Jupyter.notebook.get_cells();\n",
       "                for (var i = 0; i < nbb_cells.length; ++i) {\n",
       "                    if (nbb_cells[i].input_prompt_number == nbb_cell_id) {\n",
       "                        if (nbb_cells[i].get_text() == nbb_unformatted_code) {\n",
       "                             nbb_cells[i].set_text(nbb_formatted_code);\n",
       "                        }\n",
       "                        break;\n",
       "                    }\n",
       "                }\n",
       "            }, 500);\n",
       "            "
      ],
      "text/plain": [
       "<IPython.core.display.Javascript object>"
      ]
     },
     "metadata": {},
     "output_type": "display_data"
    }
   ],
   "source": [
    "import numpy as np\n",
    "import graphtools\n",
    "import tasklogger\n",
    "from collections import defaultdict\n",
    "from scipy.spatial.distance import pdist, cdist, squareform\n",
    "import sklearn\n",
    "import vne\n",
    "import warnings\n",
    "\n",
    "warnings.simplefilter(\"ignore\")\n",
    "import collections\n",
    "\n",
    "%load_ext nb_black"
   ]
  },
  {
   "cell_type": "code",
   "execution_count": 2,
   "metadata": {},
   "outputs": [
    {
     "data": {
      "application/javascript": [
       "\n",
       "            setTimeout(function() {\n",
       "                var nbb_cell_id = 2;\n",
       "                var nbb_unformatted_code = \"### Diffusion Condensation Package\";\n",
       "                var nbb_formatted_code = \"### Diffusion Condensation Package\";\n",
       "                var nbb_cells = Jupyter.notebook.get_cells();\n",
       "                for (var i = 0; i < nbb_cells.length; ++i) {\n",
       "                    if (nbb_cells[i].input_prompt_number == nbb_cell_id) {\n",
       "                        if (nbb_cells[i].get_text() == nbb_unformatted_code) {\n",
       "                             nbb_cells[i].set_text(nbb_formatted_code);\n",
       "                        }\n",
       "                        break;\n",
       "                    }\n",
       "                }\n",
       "            }, 500);\n",
       "            "
      ],
      "text/plain": [
       "<IPython.core.display.Javascript object>"
      ]
     },
     "metadata": {},
     "output_type": "display_data"
    }
   ],
   "source": [
    "### Diffusion Condensation Package"
   ]
  },
  {
   "cell_type": "code",
   "execution_count": 30,
   "metadata": {},
   "outputs": [
    {
     "data": {
      "application/javascript": [
       "\n",
       "            setTimeout(function() {\n",
       "                var nbb_cell_id = 30;\n",
       "                var nbb_unformatted_code = \"class CATCH(object):\\n    def __init__(\\n        self,\\n        knn=5,\\n        n_pca=50,\\n        t=\\\"auto\\\",\\n        granularity=1,\\n        scale=1.025,\\n        t_max=50,\\n        n_jobs=1,\\n        random_state=None,\\n    ):\\n\\n        self.scale = scale\\n        self.knn = knn\\n        self.n_pca = n_pca\\n        self.t = t\\n        self.granularity = granularity\\n        self.t_max = t_max\\n        self.n_jobs = n_jobs\\n        self.random_state = random_state\\n\\n        self.NxTs = None\\n        self.Xs = None\\n        self.Ks = None\\n        self.merges = None\\n        self.Ps = None\\n        self.data_pca = None\\n        self.pca_op = None\\n        self.epsilon = None\\n        self.merge_threshold = None\\n        self.gradient = None\\n        self.levels = None\\n        self.ind_components = None\\n        self.gradient = None\\n\\n        super().__init__()\\n\\n    def fit(self, data):\\n        (\\n            self.data_pca,\\n            self.NxTs,\\n            self.Xs,\\n            self.merges,\\n            self.Ps,\\n            self.pca_op,\\n            self.epsilon,\\n            self.merge_threshold,\\n        ) = condensation(\\n            data,\\n            knn=self.knn,\\n            n_pca=self.n_pca,\\n            t=self.t,\\n            granularity=self.granularity,\\n            scale=self.scale,\\n            t_max=self.t_max,\\n            n_jobs=self.n_jobs,\\n            random_state=self.random_state,\\n        )\\n\\n    def transform(self):\\n        with tasklogger.log_task(\\\"Topological Activity\\\"):\\n            ind_components = []\\n\\n            for c in range(len(self.NxTs)):\\n                ind_components.append(len(np.unique(self.NxTs[c])))\\n            self.ind_components = np.array(ind_components)\\n            self.gradient = np.diff(np.log(self.ind_components))\\n            locs = np.where(self.gradient == 0)[0]\\n            res = []\\n            for c in range(1, len(locs)):\\n                if ind_components[locs[c]] - ind_components[locs[c - 1]] != 0:\\n                    res.append(locs[c])\\n            self.levels = np.array(res) - len(self.NxTs)\\n        return self.levels\\n\\n    def fit_transform(self, data):\\n        self.fit(data)\\n        return self.transform()\";\n",
       "                var nbb_formatted_code = \"class CATCH(object):\\n    def __init__(\\n        self,\\n        knn=5,\\n        n_pca=50,\\n        t=\\\"auto\\\",\\n        granularity=1,\\n        scale=1.025,\\n        t_max=50,\\n        n_jobs=1,\\n        random_state=None,\\n    ):\\n\\n        self.scale = scale\\n        self.knn = knn\\n        self.n_pca = n_pca\\n        self.t = t\\n        self.granularity = granularity\\n        self.t_max = t_max\\n        self.n_jobs = n_jobs\\n        self.random_state = random_state\\n\\n        self.NxTs = None\\n        self.Xs = None\\n        self.Ks = None\\n        self.merges = None\\n        self.Ps = None\\n        self.data_pca = None\\n        self.pca_op = None\\n        self.epsilon = None\\n        self.merge_threshold = None\\n        self.gradient = None\\n        self.levels = None\\n        self.ind_components = None\\n        self.gradient = None\\n\\n        super().__init__()\\n\\n    def fit(self, data):\\n        (\\n            self.data_pca,\\n            self.NxTs,\\n            self.Xs,\\n            self.merges,\\n            self.Ps,\\n            self.pca_op,\\n            self.epsilon,\\n            self.merge_threshold,\\n        ) = condensation(\\n            data,\\n            knn=self.knn,\\n            n_pca=self.n_pca,\\n            t=self.t,\\n            granularity=self.granularity,\\n            scale=self.scale,\\n            t_max=self.t_max,\\n            n_jobs=self.n_jobs,\\n            random_state=self.random_state,\\n        )\\n\\n    def transform(self):\\n        with tasklogger.log_task(\\\"Topological Activity\\\"):\\n            ind_components = []\\n\\n            for c in range(len(self.NxTs)):\\n                ind_components.append(len(np.unique(self.NxTs[c])))\\n            self.ind_components = np.array(ind_components)\\n            self.gradient = np.diff(np.log(self.ind_components))\\n            locs = np.where(self.gradient == 0)[0]\\n            res = []\\n            for c in range(1, len(locs)):\\n                if ind_components[locs[c]] - ind_components[locs[c - 1]] != 0:\\n                    res.append(locs[c])\\n            self.levels = np.array(res) - len(self.NxTs)\\n        return self.levels\\n\\n    def fit_transform(self, data):\\n        self.fit(data)\\n        return self.transform()\";\n",
       "                var nbb_cells = Jupyter.notebook.get_cells();\n",
       "                for (var i = 0; i < nbb_cells.length; ++i) {\n",
       "                    if (nbb_cells[i].input_prompt_number == nbb_cell_id) {\n",
       "                        if (nbb_cells[i].get_text() == nbb_unformatted_code) {\n",
       "                             nbb_cells[i].set_text(nbb_formatted_code);\n",
       "                        }\n",
       "                        break;\n",
       "                    }\n",
       "                }\n",
       "            }, 500);\n",
       "            "
      ],
      "text/plain": [
       "<IPython.core.display.Javascript object>"
      ]
     },
     "metadata": {},
     "output_type": "display_data"
    }
   ],
   "source": [
    "class CATCH(object):\n",
    "    def __init__(\n",
    "        self,\n",
    "        knn=5,\n",
    "        n_pca=50,\n",
    "        t=\"auto\",\n",
    "        granularity=1,\n",
    "        scale=1.025,\n",
    "        t_max=50,\n",
    "        n_jobs=1,\n",
    "        random_state=None,\n",
    "    ):\n",
    "\n",
    "        self.scale = scale\n",
    "        self.knn = knn\n",
    "        self.n_pca = n_pca\n",
    "        self.t = t\n",
    "        self.granularity = granularity\n",
    "        self.t_max = t_max\n",
    "        self.n_jobs = n_jobs\n",
    "        self.random_state = random_state\n",
    "\n",
    "        self.NxTs = None\n",
    "        self.Xs = None\n",
    "        self.Ks = None\n",
    "        self.merges = None\n",
    "        self.Ps = None\n",
    "        self.data_pca = None\n",
    "        self.pca_op = None\n",
    "        self.epsilon = None\n",
    "        self.merge_threshold = None\n",
    "        self.gradient = None\n",
    "        self.levels = None\n",
    "        self.ind_components = None\n",
    "        self.gradient = None\n",
    "\n",
    "        super().__init__()\n",
    "\n",
    "    def fit(self, data):\n",
    "        (\n",
    "            self.data_pca,\n",
    "            self.NxTs,\n",
    "            self.Xs,\n",
    "            self.merges,\n",
    "            self.Ps,\n",
    "            self.pca_op,\n",
    "            self.epsilon,\n",
    "            self.merge_threshold,\n",
    "        ) = condensation(\n",
    "            data,\n",
    "            knn=self.knn,\n",
    "            n_pca=self.n_pca,\n",
    "            t=self.t,\n",
    "            granularity=self.granularity,\n",
    "            scale=self.scale,\n",
    "            t_max=self.t_max,\n",
    "            n_jobs=self.n_jobs,\n",
    "            random_state=self.random_state,\n",
    "        )\n",
    "\n",
    "    def transform(self):\n",
    "        with tasklogger.log_task(\"Topological Activity\"):\n",
    "            ind_components = []\n",
    "\n",
    "            for c in range(len(self.NxTs)):\n",
    "                ind_components.append(len(np.unique(self.NxTs[c])))\n",
    "            self.ind_components = np.array(ind_components)\n",
    "            self.gradient = np.diff(np.log(self.ind_components))\n",
    "            locs = np.where(self.gradient == 0)[0]\n",
    "            res = []\n",
    "            for c in range(1, len(locs)):\n",
    "                if ind_components[locs[c]] - ind_components[locs[c - 1]] != 0:\n",
    "                    res.append(locs[c])\n",
    "            self.levels = np.array(res) - len(self.NxTs)\n",
    "        return self.levels\n",
    "\n",
    "    def fit_transform(self, data):\n",
    "        self.fit(data)\n",
    "        return self.transform()"
   ]
  },
  {
   "cell_type": "code",
   "execution_count": 4,
   "metadata": {},
   "outputs": [
    {
     "data": {
      "application/javascript": [
       "\n",
       "            setTimeout(function() {\n",
       "                var nbb_cell_id = 4;\n",
       "                var nbb_unformatted_code = \"# powered condensation\\ndef comp(node, neigh, visited):\\n    \\\"\\\"\\\"Short summary.\\n    Parameters\\n    ----------\\n    node : type\\n        Description of parameter `node`.\\n    neigh : type\\n        Description of parameter `neigh`.\\n    visited : type\\n        Description of parameter `visited`.\\n    Returns\\n    -------\\n    type\\n        Description of returned object.\\n    \\\"\\\"\\\"\\n    vis = visited.add\\n    nodes = set([node])\\n    next_node = nodes.pop\\n    while nodes:\\n        node = next_node()\\n        vis(node)\\n        nodes |= neigh[node] - visited\\n        yield node\\n\\n\\ndef merge_common(lists):\\n    \\\"\\\"\\\"Short summary.\\n    Parameters\\n    ----------\\n    lists : type\\n        Description of parameter `lists`.\\n    Returns\\n    -------\\n    type\\n        Description of returned object.\\n    \\\"\\\"\\\"\\n    neigh = collections.defaultdict(set)\\n    visited = set()\\n    for each in lists:\\n        for item in each:\\n            neigh[item].update(each)\\n    for node in neigh:\\n        if node not in visited:\\n            yield sorted(comp(node, neigh=neigh, visited=visited))\\n\\n\\ndef compute_optimal_t(diff_op, t_max):\\n    t = np.arange(t_max)\\n    h = vne.compute_von_neumann_entropy(diff_op, t_max=t_max)\\n    return vne.find_knee_point(y=h, x=t)\\n\\n\\ndef compress_data(X, n_pca=50, random_state=None):\\n    pca_op = sklearn.decomposition.PCA(n_components=n_pca, random_state=random_state)\\n    return pca_op.fit_transform(X), pca_op\\n\\n\\ndef condense_vne_adaptive(X, knn=5, n_jobs=1, t=\\\"auto\\\", t_max=50, random_state=None):\\n    if X.shape[0] > 2000:\\n        n_landmarks = 1000\\n    else:\\n        n_landmarks = None\\n    G = graphtools.Graph(\\n        X,\\n        n_pca=None,\\n        knn=min(X.shape[0] - 2, knn),\\n        n_jobs=n_jobs,\\n        n_landmark=n_landmarks,\\n        random_state=random_state,\\n    )\\n\\n    P_s = G.P.toarray()\\n    if n_landmarks == None:\\n        if t == \\\"auto\\\" and t_max > 2:\\n            t = compute_optimal_t(P_s, t_max)\\n        # print(t)\\n        P_s = np.linalg.matrix_power(P_s, t)\\n        return P_s @ X, P_s, G.K.toarray(), t\\n    else:\\n        if t == \\\"auto\\\" and t_max > 2:\\n            t = compute_optimal_t(G.landmark_op, t_max)\\n        # print(t)\\n        G_pl = G.transitions\\n        G_lp = G._data_transitions()\\n        P_s = G_pl @ np.linalg.matrix_power(G.landmark_op, t) @ G_lp\\n        return P_s @ X, P_s, G.K.toarray(), t\\n\\n\\ndef condense_fixed(X, epsilon, t_max=10, n_jobs=1, random_state=None):\\n    if X.shape[0] > 5000:\\n        n_landmarks = 1000\\n    else:\\n        n_landmarks = None\\n    G = graphtools.Graph(\\n        X,\\n        n_pca=None,\\n        bandwidth=epsilon,\\n        n_jobs=n_jobs,\\n        n_landmark=n_landmarks,\\n        random_state=random_state,\\n    )\\n\\n    if n_landmarks == None:\\n        P_s = G.P.toarray()\\n        t = compute_optimal_t(P_s, 10)\\n        P_s = np.linalg.matrix_power(P_s, t_max)\\n        return P_s @ X, P_s, G.K.toarray()\\n    else:\\n        G_pl = G.transitions\\n        G_lp = G._data_transitions()\\n        P_s = G.landmark_op\\n        t = compute_optimal_t(P_s, t_max)\\n        # print(\\\"t: \\\"+str(t))\\n        P_s = G_pl @ np.linalg.matrix_power(P_s, t) @ G_lp\\n        return P_s @ X, P_s, G.K.toarray()\\n\\n\\ndef compute_merges(X, merge_threshold, n_jobs=1):\\n    D = pdist(X, metric=\\\"euclidean\\\")\\n    D = squareform(D)\\n\\n    bool_ = D < merge_threshold\\n    loc = np.where(bool_)\\n    merge_pairs = []\\n    for i in range(len(loc[0])):\\n        if loc[0][i] != loc[1][i]:\\n            merge_pairs.append(tuple([loc[0][i], loc[1][i]]))\\n    return merge_pairs\\n\\n\\ndef compute_merge_threshold(X, n_jobs=1):\\n    \\\"\\\"\\\"Short summary.\\n    Parameters\\n    ----------\\n    X : type\\n        Description of parameter `X`.\\n    granularity : type\\n        Description of parameter `granularity`.\\n    Returns\\n    -------\\n    type\\n        Description of returned object.\\n    \\\"\\\"\\\"\\n    D = pdist(X, metric=\\\"euclidean\\\")\\n    merge_threshold = np.percentile(D, 0.0001) + 1e-7\\n    return merge_threshold\\n\\n\\n# powered condensation\\ndef comp(node, neigh, visited):\\n    \\\"\\\"\\\"Short summary.\\n    Parameters\\n    ----------\\n    node : type\\n        Description of parameter `node`.\\n    neigh : type\\n        Description of parameter `neigh`.\\n    visited : type\\n        Description of parameter `visited`.\\n    Returns\\n    -------\\n    type\\n        Description of returned object.\\n    \\\"\\\"\\\"\\n    vis = visited.add\\n    nodes = set([node])\\n    next_node = nodes.pop\\n    while nodes:\\n        node = next_node()\\n        vis(node)\\n        nodes |= neigh[node] - visited\\n        yield node\\n\\n\\ndef merge_common(lists):\\n    \\\"\\\"\\\"Short summary.\\n    Parameters\\n    ----------\\n    lists : type\\n        Description of parameter `lists`.\\n    Returns\\n    -------\\n    type\\n        Description of returned object.\\n    \\\"\\\"\\\"\\n    neigh = collections.defaultdict(set)\\n    visited = set()\\n    for each in lists:\\n        for item in each:\\n            neigh[item].update(each)\\n    for node in neigh:\\n        if node not in visited:\\n            yield sorted(comp(node, neigh=neigh, visited=visited))\\n\\n\\ndef condensation(\\n    data,\\n    knn=5,\\n    n_pca=50,\\n    t=\\\"auto\\\",\\n    granularity=1,\\n    scale=1.025,\\n    t_max=50,\\n    n_jobs=1,\\n    random_state=None,\\n):\\n    if n_pca != None and data.shape[0] > n_pca:\\n        with tasklogger.log_task(\\\"PCA\\\"):\\n            X, pca_op = compress_data(data, n_pca=n_pca, random_state=random_state)\\n    else:\\n        X = data\\n\\n    N = X.shape[0]\\n    NxT = []\\n    clusters = np.arange(N)\\n    NxT.append(clusters)\\n    NxT.append(clusters)\\n\\n    X_1 = X.copy()\\n    K_list = []\\n    X_list = []\\n    X_list.append(X_1)\\n    X_list.append(X_1)\\n    P_list = []\\n    merged = []\\n\\n    with tasklogger.log_task(\\\"Diffusion Condensation\\\"):\\n        X_2, P_s, K_2, t_max = condense_vne_adaptive(\\n            X_1, knn=knn, t=t, t_max=t_max, n_jobs=n_jobs, random_state=random_state\\n        )\\n        X_list.append(X_1)\\n        P_list.append(P_s)\\n        NxT.append(NxT[-1].copy())\\n        K_list.append(K_2)\\n\\n        with tasklogger.log_task(\\\"Condensation Parameters\\\"):\\n            merge_threshold = compute_merge_threshold(X_2, n_jobs=n_jobs)\\n\\n            merge_pairs = compute_merges(X_2, merge_threshold, n_jobs=n_jobs)\\n            merge_pairs = list(merge_common(merge_pairs))\\n            # print(len(merge_pairs))\\n            merged.append(merge_pairs)\\n\\n            X_1, cluster_assignment = complete_merges(X_2, merge_pairs, NxT[-1])\\n\\n            epsilon = (\\n                granularity * (0.1 * np.mean(np.std(X_1))) / (X_1.shape[0] ** (-1 / 5))\\n            )\\n\\n            del X_list[-1]\\n            X_list.append(X_1)\\n            del NxT[-1]\\n            NxT.append(cluster_assignment)\\n\\n        while X_1.shape[0] > 1:\\n            epsilon = epsilon * scale\\n            _, weights = np.unique(cluster_assignment, return_counts=True)\\n\\n            X_2, P_s, K_2 = condense_fixed_weighted(\\n                X_1,\\n                weights=weights,\\n                epsilon=epsilon,\\n                t_max=t_max,\\n                n_jobs=n_jobs,\\n                random_state=random_state,\\n            )\\n\\n            X_list.append(X_1)\\n            P_list.append(P_s)\\n            NxT.append(NxT[-1].copy())\\n            K_list.append(K_2)\\n\\n            merge_pairs = compute_merges(X_2, merge_threshold, n_jobs=n_jobs)\\n            merge_pairs = list(merge_common(merge_pairs))\\n            merged.append(merge_pairs)\\n\\n            X_1, cluster_assignment = complete_merges(X_2, merge_pairs, NxT[-1])\\n\\n            del X_list[-1]\\n            X_list.append(X_1)\\n            del NxT[-1]\\n            NxT.append(cluster_assignment)\\n\\n    if n_pca != None and data.shape[0] > n_pca:\\n        return X, NxT, X_list, merged, P_list, pca_op, epsilon, merge_threshold\\n\\n    else:\\n        return X, NxT, X_list, merged, P_list, None, epsilon, merge_threshold\\n\\n\\ndef complete_merges(X_1, merge_pairs, cluster_assignment):\\n    clusters_uni = np.unique(cluster_assignment)\\n    to_delete = []\\n    for m in range(len(merge_pairs)):\\n        to_merge = merge_pairs[m]\\n        X_1[to_merge[0]] = np.mean(X_1[to_merge], axis=0)\\n        to_delete.extend(to_merge[1:])\\n        for c in to_merge[1:]:\\n            cluster_assignment[\\n                cluster_assignment == clusters_uni[c]\\n            ] = cluster_assignment[clusters_uni[to_merge[0]]]\\n    X_1 = np.delete(X_1, to_delete, axis=0)\\n    return X_1, cluster_assignment\\n\\n\\ndef condense_fixed_weighted(X, weights, epsilon, t_max=10, n_jobs=1, random_state=None):\\n\\n    G_1 = graphtools.Graph(\\n        X,\\n        n_pca=None,\\n        bandwidth=epsilon,\\n        n_jobs=n_jobs,\\n        n_landmark=None,\\n        random_state=random_state,\\n    )\\n\\n    K = weights * G_1.K.toarray()\\n\\n    if X.shape[0] > 5000:\\n        n_landmarks = 1000\\n    else:\\n        n_landmarks = None\\n\\n    G = graphtools.Graph(\\n        K,\\n        precomputed=\\\"affinity\\\",\\n        bandwidth=epsilon,\\n        n_jobs=n_jobs,\\n        n_landmark=n_landmarks,\\n        random_state=random_state,\\n    )\\n\\n    if n_landmarks == None:\\n        P_s = G.P\\n        t = compute_optimal_t(P_s, t_max)\\n        P_s = np.linalg.matrix_power(P_s, t)\\n        return P_s @ X, P_s, K\\n    else:\\n        G_pl = G.transitions\\n        G_lp = G._data_transitions()\\n        P_s = G.landmark_op\\n        t = compute_optimal_t(P_s, t_max)\\n        # print(\\\"t: \\\"+str(t))\\n        P_s = G_pl @ np.linalg.matrix_power(P_s, t) @ G_lp\\n        return P_s @ X, P_s, K\";\n",
       "                var nbb_formatted_code = \"# powered condensation\\ndef comp(node, neigh, visited):\\n    \\\"\\\"\\\"Short summary.\\n    Parameters\\n    ----------\\n    node : type\\n        Description of parameter `node`.\\n    neigh : type\\n        Description of parameter `neigh`.\\n    visited : type\\n        Description of parameter `visited`.\\n    Returns\\n    -------\\n    type\\n        Description of returned object.\\n    \\\"\\\"\\\"\\n    vis = visited.add\\n    nodes = set([node])\\n    next_node = nodes.pop\\n    while nodes:\\n        node = next_node()\\n        vis(node)\\n        nodes |= neigh[node] - visited\\n        yield node\\n\\n\\ndef merge_common(lists):\\n    \\\"\\\"\\\"Short summary.\\n    Parameters\\n    ----------\\n    lists : type\\n        Description of parameter `lists`.\\n    Returns\\n    -------\\n    type\\n        Description of returned object.\\n    \\\"\\\"\\\"\\n    neigh = collections.defaultdict(set)\\n    visited = set()\\n    for each in lists:\\n        for item in each:\\n            neigh[item].update(each)\\n    for node in neigh:\\n        if node not in visited:\\n            yield sorted(comp(node, neigh=neigh, visited=visited))\\n\\n\\ndef compute_optimal_t(diff_op, t_max):\\n    t = np.arange(t_max)\\n    h = vne.compute_von_neumann_entropy(diff_op, t_max=t_max)\\n    return vne.find_knee_point(y=h, x=t)\\n\\n\\ndef compress_data(X, n_pca=50, random_state=None):\\n    pca_op = sklearn.decomposition.PCA(n_components=n_pca, random_state=random_state)\\n    return pca_op.fit_transform(X), pca_op\\n\\n\\ndef condense_vne_adaptive(X, knn=5, n_jobs=1, t=\\\"auto\\\", t_max=50, random_state=None):\\n    if X.shape[0] > 2000:\\n        n_landmarks = 1000\\n    else:\\n        n_landmarks = None\\n    G = graphtools.Graph(\\n        X,\\n        n_pca=None,\\n        knn=min(X.shape[0] - 2, knn),\\n        n_jobs=n_jobs,\\n        n_landmark=n_landmarks,\\n        random_state=random_state,\\n    )\\n\\n    P_s = G.P.toarray()\\n    if n_landmarks == None:\\n        if t == \\\"auto\\\" and t_max > 2:\\n            t = compute_optimal_t(P_s, t_max)\\n        # print(t)\\n        P_s = np.linalg.matrix_power(P_s, t)\\n        return P_s @ X, P_s, G.K.toarray(), t\\n    else:\\n        if t == \\\"auto\\\" and t_max > 2:\\n            t = compute_optimal_t(G.landmark_op, t_max)\\n        # print(t)\\n        G_pl = G.transitions\\n        G_lp = G._data_transitions()\\n        P_s = G_pl @ np.linalg.matrix_power(G.landmark_op, t) @ G_lp\\n        return P_s @ X, P_s, G.K.toarray(), t\\n\\n\\ndef condense_fixed(X, epsilon, t_max=10, n_jobs=1, random_state=None):\\n    if X.shape[0] > 5000:\\n        n_landmarks = 1000\\n    else:\\n        n_landmarks = None\\n    G = graphtools.Graph(\\n        X,\\n        n_pca=None,\\n        bandwidth=epsilon,\\n        n_jobs=n_jobs,\\n        n_landmark=n_landmarks,\\n        random_state=random_state,\\n    )\\n\\n    if n_landmarks == None:\\n        P_s = G.P.toarray()\\n        t = compute_optimal_t(P_s, 10)\\n        P_s = np.linalg.matrix_power(P_s, t_max)\\n        return P_s @ X, P_s, G.K.toarray()\\n    else:\\n        G_pl = G.transitions\\n        G_lp = G._data_transitions()\\n        P_s = G.landmark_op\\n        t = compute_optimal_t(P_s, t_max)\\n        # print(\\\"t: \\\"+str(t))\\n        P_s = G_pl @ np.linalg.matrix_power(P_s, t) @ G_lp\\n        return P_s @ X, P_s, G.K.toarray()\\n\\n\\ndef compute_merges(X, merge_threshold, n_jobs=1):\\n    D = pdist(X, metric=\\\"euclidean\\\")\\n    D = squareform(D)\\n\\n    bool_ = D < merge_threshold\\n    loc = np.where(bool_)\\n    merge_pairs = []\\n    for i in range(len(loc[0])):\\n        if loc[0][i] != loc[1][i]:\\n            merge_pairs.append(tuple([loc[0][i], loc[1][i]]))\\n    return merge_pairs\\n\\n\\ndef compute_merge_threshold(X, n_jobs=1):\\n    \\\"\\\"\\\"Short summary.\\n    Parameters\\n    ----------\\n    X : type\\n        Description of parameter `X`.\\n    granularity : type\\n        Description of parameter `granularity`.\\n    Returns\\n    -------\\n    type\\n        Description of returned object.\\n    \\\"\\\"\\\"\\n    D = pdist(X, metric=\\\"euclidean\\\")\\n    merge_threshold = np.percentile(D, 0.0001) + 1e-7\\n    return merge_threshold\\n\\n\\n# powered condensation\\ndef comp(node, neigh, visited):\\n    \\\"\\\"\\\"Short summary.\\n    Parameters\\n    ----------\\n    node : type\\n        Description of parameter `node`.\\n    neigh : type\\n        Description of parameter `neigh`.\\n    visited : type\\n        Description of parameter `visited`.\\n    Returns\\n    -------\\n    type\\n        Description of returned object.\\n    \\\"\\\"\\\"\\n    vis = visited.add\\n    nodes = set([node])\\n    next_node = nodes.pop\\n    while nodes:\\n        node = next_node()\\n        vis(node)\\n        nodes |= neigh[node] - visited\\n        yield node\\n\\n\\ndef merge_common(lists):\\n    \\\"\\\"\\\"Short summary.\\n    Parameters\\n    ----------\\n    lists : type\\n        Description of parameter `lists`.\\n    Returns\\n    -------\\n    type\\n        Description of returned object.\\n    \\\"\\\"\\\"\\n    neigh = collections.defaultdict(set)\\n    visited = set()\\n    for each in lists:\\n        for item in each:\\n            neigh[item].update(each)\\n    for node in neigh:\\n        if node not in visited:\\n            yield sorted(comp(node, neigh=neigh, visited=visited))\\n\\n\\ndef condensation(\\n    data,\\n    knn=5,\\n    n_pca=50,\\n    t=\\\"auto\\\",\\n    granularity=1,\\n    scale=1.025,\\n    t_max=50,\\n    n_jobs=1,\\n    random_state=None,\\n):\\n    if n_pca != None and data.shape[0] > n_pca:\\n        with tasklogger.log_task(\\\"PCA\\\"):\\n            X, pca_op = compress_data(data, n_pca=n_pca, random_state=random_state)\\n    else:\\n        X = data\\n\\n    N = X.shape[0]\\n    NxT = []\\n    clusters = np.arange(N)\\n    NxT.append(clusters)\\n    NxT.append(clusters)\\n\\n    X_1 = X.copy()\\n    K_list = []\\n    X_list = []\\n    X_list.append(X_1)\\n    X_list.append(X_1)\\n    P_list = []\\n    merged = []\\n\\n    with tasklogger.log_task(\\\"Diffusion Condensation\\\"):\\n        X_2, P_s, K_2, t_max = condense_vne_adaptive(\\n            X_1, knn=knn, t=t, t_max=t_max, n_jobs=n_jobs, random_state=random_state\\n        )\\n        X_list.append(X_1)\\n        P_list.append(P_s)\\n        NxT.append(NxT[-1].copy())\\n        K_list.append(K_2)\\n\\n        with tasklogger.log_task(\\\"Condensation Parameters\\\"):\\n            merge_threshold = compute_merge_threshold(X_2, n_jobs=n_jobs)\\n\\n            merge_pairs = compute_merges(X_2, merge_threshold, n_jobs=n_jobs)\\n            merge_pairs = list(merge_common(merge_pairs))\\n            # print(len(merge_pairs))\\n            merged.append(merge_pairs)\\n\\n            X_1, cluster_assignment = complete_merges(X_2, merge_pairs, NxT[-1])\\n\\n            epsilon = (\\n                granularity * (0.1 * np.mean(np.std(X_1))) / (X_1.shape[0] ** (-1 / 5))\\n            )\\n\\n            del X_list[-1]\\n            X_list.append(X_1)\\n            del NxT[-1]\\n            NxT.append(cluster_assignment)\\n\\n        while X_1.shape[0] > 1:\\n            epsilon = epsilon * scale\\n            _, weights = np.unique(cluster_assignment, return_counts=True)\\n\\n            X_2, P_s, K_2 = condense_fixed_weighted(\\n                X_1,\\n                weights=weights,\\n                epsilon=epsilon,\\n                t_max=t_max,\\n                n_jobs=n_jobs,\\n                random_state=random_state,\\n            )\\n\\n            X_list.append(X_1)\\n            P_list.append(P_s)\\n            NxT.append(NxT[-1].copy())\\n            K_list.append(K_2)\\n\\n            merge_pairs = compute_merges(X_2, merge_threshold, n_jobs=n_jobs)\\n            merge_pairs = list(merge_common(merge_pairs))\\n            merged.append(merge_pairs)\\n\\n            X_1, cluster_assignment = complete_merges(X_2, merge_pairs, NxT[-1])\\n\\n            del X_list[-1]\\n            X_list.append(X_1)\\n            del NxT[-1]\\n            NxT.append(cluster_assignment)\\n\\n    if n_pca != None and data.shape[0] > n_pca:\\n        return X, NxT, X_list, merged, P_list, pca_op, epsilon, merge_threshold\\n\\n    else:\\n        return X, NxT, X_list, merged, P_list, None, epsilon, merge_threshold\\n\\n\\ndef complete_merges(X_1, merge_pairs, cluster_assignment):\\n    clusters_uni = np.unique(cluster_assignment)\\n    to_delete = []\\n    for m in range(len(merge_pairs)):\\n        to_merge = merge_pairs[m]\\n        X_1[to_merge[0]] = np.mean(X_1[to_merge], axis=0)\\n        to_delete.extend(to_merge[1:])\\n        for c in to_merge[1:]:\\n            cluster_assignment[\\n                cluster_assignment == clusters_uni[c]\\n            ] = cluster_assignment[clusters_uni[to_merge[0]]]\\n    X_1 = np.delete(X_1, to_delete, axis=0)\\n    return X_1, cluster_assignment\\n\\n\\ndef condense_fixed_weighted(X, weights, epsilon, t_max=10, n_jobs=1, random_state=None):\\n\\n    G_1 = graphtools.Graph(\\n        X,\\n        n_pca=None,\\n        bandwidth=epsilon,\\n        n_jobs=n_jobs,\\n        n_landmark=None,\\n        random_state=random_state,\\n    )\\n\\n    K = weights * G_1.K.toarray()\\n\\n    if X.shape[0] > 5000:\\n        n_landmarks = 1000\\n    else:\\n        n_landmarks = None\\n\\n    G = graphtools.Graph(\\n        K,\\n        precomputed=\\\"affinity\\\",\\n        bandwidth=epsilon,\\n        n_jobs=n_jobs,\\n        n_landmark=n_landmarks,\\n        random_state=random_state,\\n    )\\n\\n    if n_landmarks == None:\\n        P_s = G.P\\n        t = compute_optimal_t(P_s, t_max)\\n        P_s = np.linalg.matrix_power(P_s, t)\\n        return P_s @ X, P_s, K\\n    else:\\n        G_pl = G.transitions\\n        G_lp = G._data_transitions()\\n        P_s = G.landmark_op\\n        t = compute_optimal_t(P_s, t_max)\\n        # print(\\\"t: \\\"+str(t))\\n        P_s = G_pl @ np.linalg.matrix_power(P_s, t) @ G_lp\\n        return P_s @ X, P_s, K\";\n",
       "                var nbb_cells = Jupyter.notebook.get_cells();\n",
       "                for (var i = 0; i < nbb_cells.length; ++i) {\n",
       "                    if (nbb_cells[i].input_prompt_number == nbb_cell_id) {\n",
       "                        if (nbb_cells[i].get_text() == nbb_unformatted_code) {\n",
       "                             nbb_cells[i].set_text(nbb_formatted_code);\n",
       "                        }\n",
       "                        break;\n",
       "                    }\n",
       "                }\n",
       "            }, 500);\n",
       "            "
      ],
      "text/plain": [
       "<IPython.core.display.Javascript object>"
      ]
     },
     "metadata": {},
     "output_type": "display_data"
    }
   ],
   "source": [
    "# powered condensation\n",
    "def comp(node, neigh, visited):\n",
    "    \"\"\"Short summary.\n",
    "    Parameters\n",
    "    ----------\n",
    "    node : type\n",
    "        Description of parameter `node`.\n",
    "    neigh : type\n",
    "        Description of parameter `neigh`.\n",
    "    visited : type\n",
    "        Description of parameter `visited`.\n",
    "    Returns\n",
    "    -------\n",
    "    type\n",
    "        Description of returned object.\n",
    "    \"\"\"\n",
    "    vis = visited.add\n",
    "    nodes = set([node])\n",
    "    next_node = nodes.pop\n",
    "    while nodes:\n",
    "        node = next_node()\n",
    "        vis(node)\n",
    "        nodes |= neigh[node] - visited\n",
    "        yield node\n",
    "\n",
    "\n",
    "def merge_common(lists):\n",
    "    \"\"\"Short summary.\n",
    "    Parameters\n",
    "    ----------\n",
    "    lists : type\n",
    "        Description of parameter `lists`.\n",
    "    Returns\n",
    "    -------\n",
    "    type\n",
    "        Description of returned object.\n",
    "    \"\"\"\n",
    "    neigh = collections.defaultdict(set)\n",
    "    visited = set()\n",
    "    for each in lists:\n",
    "        for item in each:\n",
    "            neigh[item].update(each)\n",
    "    for node in neigh:\n",
    "        if node not in visited:\n",
    "            yield sorted(comp(node, neigh=neigh, visited=visited))\n",
    "\n",
    "\n",
    "def compute_optimal_t(diff_op, t_max):\n",
    "    t = np.arange(t_max)\n",
    "    h = vne.compute_von_neumann_entropy(diff_op, t_max=t_max)\n",
    "    return vne.find_knee_point(y=h, x=t)\n",
    "\n",
    "\n",
    "def compress_data(X, n_pca=50, random_state=None):\n",
    "    pca_op = sklearn.decomposition.PCA(n_components=n_pca, random_state=random_state)\n",
    "    return pca_op.fit_transform(X), pca_op\n",
    "\n",
    "\n",
    "def condense_vne_adaptive(X, knn=5, n_jobs=1, t=\"auto\", t_max=50, random_state=None):\n",
    "    if X.shape[0] > 2000:\n",
    "        n_landmarks = 1000\n",
    "    else:\n",
    "        n_landmarks = None\n",
    "    G = graphtools.Graph(\n",
    "        X,\n",
    "        n_pca=None,\n",
    "        knn=min(X.shape[0] - 2, knn),\n",
    "        n_jobs=n_jobs,\n",
    "        n_landmark=n_landmarks,\n",
    "        random_state=random_state,\n",
    "    )\n",
    "\n",
    "    P_s = G.P.toarray()\n",
    "    if n_landmarks == None:\n",
    "        if t == \"auto\" and t_max > 2:\n",
    "            t = compute_optimal_t(P_s, t_max)\n",
    "        # print(t)\n",
    "        P_s = np.linalg.matrix_power(P_s, t)\n",
    "        return P_s @ X, P_s, G.K.toarray(), t\n",
    "    else:\n",
    "        if t == \"auto\" and t_max > 2:\n",
    "            t = compute_optimal_t(G.landmark_op, t_max)\n",
    "        # print(t)\n",
    "        G_pl = G.transitions\n",
    "        G_lp = G._data_transitions()\n",
    "        P_s = G_pl @ np.linalg.matrix_power(G.landmark_op, t) @ G_lp\n",
    "        return P_s @ X, P_s, G.K.toarray(), t\n",
    "\n",
    "\n",
    "def condense_fixed(X, epsilon, t_max=10, n_jobs=1, random_state=None):\n",
    "    if X.shape[0] > 5000:\n",
    "        n_landmarks = 1000\n",
    "    else:\n",
    "        n_landmarks = None\n",
    "    G = graphtools.Graph(\n",
    "        X,\n",
    "        n_pca=None,\n",
    "        bandwidth=epsilon,\n",
    "        n_jobs=n_jobs,\n",
    "        n_landmark=n_landmarks,\n",
    "        random_state=random_state,\n",
    "    )\n",
    "\n",
    "    if n_landmarks == None:\n",
    "        P_s = G.P.toarray()\n",
    "        t = compute_optimal_t(P_s, 10)\n",
    "        P_s = np.linalg.matrix_power(P_s, t_max)\n",
    "        return P_s @ X, P_s, G.K.toarray()\n",
    "    else:\n",
    "        G_pl = G.transitions\n",
    "        G_lp = G._data_transitions()\n",
    "        P_s = G.landmark_op\n",
    "        t = compute_optimal_t(P_s, t_max)\n",
    "        # print(\"t: \"+str(t))\n",
    "        P_s = G_pl @ np.linalg.matrix_power(P_s, t) @ G_lp\n",
    "        return P_s @ X, P_s, G.K.toarray()\n",
    "\n",
    "\n",
    "def compute_merges(X, merge_threshold, n_jobs=1):\n",
    "    D = pdist(X, metric=\"euclidean\")\n",
    "    D = squareform(D)\n",
    "\n",
    "    bool_ = D < merge_threshold\n",
    "    loc = np.where(bool_)\n",
    "    merge_pairs = []\n",
    "    for i in range(len(loc[0])):\n",
    "        if loc[0][i] != loc[1][i]:\n",
    "            merge_pairs.append(tuple([loc[0][i], loc[1][i]]))\n",
    "    return merge_pairs\n",
    "\n",
    "\n",
    "def compute_merge_threshold(X, n_jobs=1):\n",
    "    \"\"\"Short summary.\n",
    "    Parameters\n",
    "    ----------\n",
    "    X : type\n",
    "        Description of parameter `X`.\n",
    "    granularity : type\n",
    "        Description of parameter `granularity`.\n",
    "    Returns\n",
    "    -------\n",
    "    type\n",
    "        Description of returned object.\n",
    "    \"\"\"\n",
    "    D = pdist(X, metric=\"euclidean\")\n",
    "    merge_threshold = np.percentile(D, 0.0001) + 1e-7\n",
    "    return merge_threshold\n",
    "\n",
    "\n",
    "# powered condensation\n",
    "def comp(node, neigh, visited):\n",
    "    \"\"\"Short summary.\n",
    "    Parameters\n",
    "    ----------\n",
    "    node : type\n",
    "        Description of parameter `node`.\n",
    "    neigh : type\n",
    "        Description of parameter `neigh`.\n",
    "    visited : type\n",
    "        Description of parameter `visited`.\n",
    "    Returns\n",
    "    -------\n",
    "    type\n",
    "        Description of returned object.\n",
    "    \"\"\"\n",
    "    vis = visited.add\n",
    "    nodes = set([node])\n",
    "    next_node = nodes.pop\n",
    "    while nodes:\n",
    "        node = next_node()\n",
    "        vis(node)\n",
    "        nodes |= neigh[node] - visited\n",
    "        yield node\n",
    "\n",
    "\n",
    "def merge_common(lists):\n",
    "    \"\"\"Short summary.\n",
    "    Parameters\n",
    "    ----------\n",
    "    lists : type\n",
    "        Description of parameter `lists`.\n",
    "    Returns\n",
    "    -------\n",
    "    type\n",
    "        Description of returned object.\n",
    "    \"\"\"\n",
    "    neigh = collections.defaultdict(set)\n",
    "    visited = set()\n",
    "    for each in lists:\n",
    "        for item in each:\n",
    "            neigh[item].update(each)\n",
    "    for node in neigh:\n",
    "        if node not in visited:\n",
    "            yield sorted(comp(node, neigh=neigh, visited=visited))\n",
    "\n",
    "\n",
    "def condensation(\n",
    "    data,\n",
    "    knn=5,\n",
    "    n_pca=50,\n",
    "    t=\"auto\",\n",
    "    granularity=1,\n",
    "    scale=1.025,\n",
    "    t_max=50,\n",
    "    n_jobs=1,\n",
    "    random_state=None,\n",
    "):\n",
    "    if n_pca != None and data.shape[0] > n_pca:\n",
    "        with tasklogger.log_task(\"PCA\"):\n",
    "            X, pca_op = compress_data(data, n_pca=n_pca, random_state=random_state)\n",
    "    else:\n",
    "        X = data\n",
    "\n",
    "    N = X.shape[0]\n",
    "    NxT = []\n",
    "    clusters = np.arange(N)\n",
    "    NxT.append(clusters)\n",
    "    NxT.append(clusters)\n",
    "\n",
    "    X_1 = X.copy()\n",
    "    K_list = []\n",
    "    X_list = []\n",
    "    X_list.append(X_1)\n",
    "    X_list.append(X_1)\n",
    "    P_list = []\n",
    "    merged = []\n",
    "\n",
    "    with tasklogger.log_task(\"Diffusion Condensation\"):\n",
    "        X_2, P_s, K_2, t_max = condense_vne_adaptive(\n",
    "            X_1, knn=knn, t=t, t_max=t_max, n_jobs=n_jobs, random_state=random_state\n",
    "        )\n",
    "        X_list.append(X_1)\n",
    "        P_list.append(P_s)\n",
    "        NxT.append(NxT[-1].copy())\n",
    "        K_list.append(K_2)\n",
    "\n",
    "        with tasklogger.log_task(\"Condensation Parameters\"):\n",
    "            merge_threshold = compute_merge_threshold(X_2, n_jobs=n_jobs)\n",
    "\n",
    "            merge_pairs = compute_merges(X_2, merge_threshold, n_jobs=n_jobs)\n",
    "            merge_pairs = list(merge_common(merge_pairs))\n",
    "            # print(len(merge_pairs))\n",
    "            merged.append(merge_pairs)\n",
    "\n",
    "            X_1, cluster_assignment = complete_merges(X_2, merge_pairs, NxT[-1])\n",
    "\n",
    "            epsilon = (\n",
    "                granularity * (0.1 * np.mean(np.std(X_1))) / (X_1.shape[0] ** (-1 / 5))\n",
    "            )\n",
    "\n",
    "            del X_list[-1]\n",
    "            X_list.append(X_1)\n",
    "            del NxT[-1]\n",
    "            NxT.append(cluster_assignment)\n",
    "\n",
    "        while X_1.shape[0] > 1:\n",
    "            epsilon = epsilon * scale\n",
    "            _, weights = np.unique(cluster_assignment, return_counts=True)\n",
    "\n",
    "            X_2, P_s, K_2 = condense_fixed_weighted(\n",
    "                X_1,\n",
    "                weights=weights,\n",
    "                epsilon=epsilon,\n",
    "                t_max=t_max,\n",
    "                n_jobs=n_jobs,\n",
    "                random_state=random_state,\n",
    "            )\n",
    "\n",
    "            X_list.append(X_1)\n",
    "            P_list.append(P_s)\n",
    "            NxT.append(NxT[-1].copy())\n",
    "            K_list.append(K_2)\n",
    "\n",
    "            merge_pairs = compute_merges(X_2, merge_threshold, n_jobs=n_jobs)\n",
    "            merge_pairs = list(merge_common(merge_pairs))\n",
    "            merged.append(merge_pairs)\n",
    "\n",
    "            X_1, cluster_assignment = complete_merges(X_2, merge_pairs, NxT[-1])\n",
    "\n",
    "            del X_list[-1]\n",
    "            X_list.append(X_1)\n",
    "            del NxT[-1]\n",
    "            NxT.append(cluster_assignment)\n",
    "\n",
    "    if n_pca != None and data.shape[0] > n_pca:\n",
    "        return X, NxT, X_list, merged, P_list, pca_op, epsilon, merge_threshold\n",
    "\n",
    "    else:\n",
    "        return X, NxT, X_list, merged, P_list, None, epsilon, merge_threshold\n",
    "\n",
    "\n",
    "def complete_merges(X_1, merge_pairs, cluster_assignment):\n",
    "    clusters_uni = np.unique(cluster_assignment)\n",
    "    to_delete = []\n",
    "    for m in range(len(merge_pairs)):\n",
    "        to_merge = merge_pairs[m]\n",
    "        X_1[to_merge[0]] = np.mean(X_1[to_merge], axis=0)\n",
    "        to_delete.extend(to_merge[1:])\n",
    "        for c in to_merge[1:]:\n",
    "            cluster_assignment[\n",
    "                cluster_assignment == clusters_uni[c]\n",
    "            ] = cluster_assignment[clusters_uni[to_merge[0]]]\n",
    "    X_1 = np.delete(X_1, to_delete, axis=0)\n",
    "    return X_1, cluster_assignment\n",
    "\n",
    "\n",
    "def condense_fixed_weighted(X, weights, epsilon, t_max=10, n_jobs=1, random_state=None):\n",
    "\n",
    "    G_1 = graphtools.Graph(\n",
    "        X,\n",
    "        n_pca=None,\n",
    "        bandwidth=epsilon,\n",
    "        n_jobs=n_jobs,\n",
    "        n_landmark=None,\n",
    "        random_state=random_state,\n",
    "    )\n",
    "\n",
    "    K = weights * G_1.K.toarray()\n",
    "\n",
    "    if X.shape[0] > 5000:\n",
    "        n_landmarks = 1000\n",
    "    else:\n",
    "        n_landmarks = None\n",
    "\n",
    "    G = graphtools.Graph(\n",
    "        K,\n",
    "        precomputed=\"affinity\",\n",
    "        bandwidth=epsilon,\n",
    "        n_jobs=n_jobs,\n",
    "        n_landmark=n_landmarks,\n",
    "        random_state=random_state,\n",
    "    )\n",
    "\n",
    "    if n_landmarks == None:\n",
    "        P_s = G.P\n",
    "        t = compute_optimal_t(P_s, t_max)\n",
    "        P_s = np.linalg.matrix_power(P_s, t)\n",
    "        return P_s @ X, P_s, K\n",
    "    else:\n",
    "        G_pl = G.transitions\n",
    "        G_lp = G._data_transitions()\n",
    "        P_s = G.landmark_op\n",
    "        t = compute_optimal_t(P_s, t_max)\n",
    "        # print(\"t: \"+str(t))\n",
    "        P_s = G_pl @ np.linalg.matrix_power(P_s, t) @ G_lp\n",
    "        return P_s @ X, P_s, K"
   ]
  },
  {
   "cell_type": "code",
   "execution_count": null,
   "metadata": {},
   "outputs": [],
   "source": []
  },
  {
   "cell_type": "code",
   "execution_count": 5,
   "metadata": {},
   "outputs": [
    {
     "data": {
      "application/javascript": [
       "\n",
       "            setTimeout(function() {\n",
       "                var nbb_cell_id = 5;\n",
       "                var nbb_unformatted_code = \"### downloading data\";\n",
       "                var nbb_formatted_code = \"### downloading data\";\n",
       "                var nbb_cells = Jupyter.notebook.get_cells();\n",
       "                for (var i = 0; i < nbb_cells.length; ++i) {\n",
       "                    if (nbb_cells[i].input_prompt_number == nbb_cell_id) {\n",
       "                        if (nbb_cells[i].get_text() == nbb_unformatted_code) {\n",
       "                             nbb_cells[i].set_text(nbb_formatted_code);\n",
       "                        }\n",
       "                        break;\n",
       "                    }\n",
       "                }\n",
       "            }, 500);\n",
       "            "
      ],
      "text/plain": [
       "<IPython.core.display.Javascript object>"
      ]
     },
     "metadata": {},
     "output_type": "display_data"
    }
   ],
   "source": [
    "### downloading data"
   ]
  },
  {
   "cell_type": "code",
   "execution_count": 6,
   "metadata": {},
   "outputs": [
    {
     "data": {
      "application/javascript": [
       "\n",
       "            setTimeout(function() {\n",
       "                var nbb_cell_id = 6;\n",
       "                var nbb_unformatted_code = \"import pandas as pd\\nimport numpy as np\";\n",
       "                var nbb_formatted_code = \"import pandas as pd\\nimport numpy as np\";\n",
       "                var nbb_cells = Jupyter.notebook.get_cells();\n",
       "                for (var i = 0; i < nbb_cells.length; ++i) {\n",
       "                    if (nbb_cells[i].input_prompt_number == nbb_cell_id) {\n",
       "                        if (nbb_cells[i].get_text() == nbb_unformatted_code) {\n",
       "                             nbb_cells[i].set_text(nbb_formatted_code);\n",
       "                        }\n",
       "                        break;\n",
       "                    }\n",
       "                }\n",
       "            }, 500);\n",
       "            "
      ],
      "text/plain": [
       "<IPython.core.display.Javascript object>"
      ]
     },
     "metadata": {},
     "output_type": "display_data"
    }
   ],
   "source": [
    "import pandas as pd\n",
    "import numpy as np"
   ]
  },
  {
   "cell_type": "code",
   "execution_count": 7,
   "metadata": {},
   "outputs": [
    {
     "data": {
      "application/javascript": [
       "\n",
       "            setTimeout(function() {\n",
       "                var nbb_cell_id = 7;\n",
       "                var nbb_unformatted_code = \"data = pd.read_pickle(\\\"/home/mkuchroo/temp_data/pbmc_4k_sqrt.pickle\\\")\";\n",
       "                var nbb_formatted_code = \"data = pd.read_pickle(\\\"/home/mkuchroo/temp_data/pbmc_4k_sqrt.pickle\\\")\";\n",
       "                var nbb_cells = Jupyter.notebook.get_cells();\n",
       "                for (var i = 0; i < nbb_cells.length; ++i) {\n",
       "                    if (nbb_cells[i].input_prompt_number == nbb_cell_id) {\n",
       "                        if (nbb_cells[i].get_text() == nbb_unformatted_code) {\n",
       "                             nbb_cells[i].set_text(nbb_formatted_code);\n",
       "                        }\n",
       "                        break;\n",
       "                    }\n",
       "                }\n",
       "            }, 500);\n",
       "            "
      ],
      "text/plain": [
       "<IPython.core.display.Javascript object>"
      ]
     },
     "metadata": {},
     "output_type": "display_data"
    }
   ],
   "source": [
    "data = pd.read_pickle(\"/home/mkuchroo/temp_data/pbmc_4k_sqrt.pickle\")"
   ]
  },
  {
   "cell_type": "code",
   "execution_count": 8,
   "metadata": {},
   "outputs": [
    {
     "name": "stdout",
     "output_type": "stream",
     "text": [
      "Calculating PHATE...\n",
      "  Running PHATE on 4360 cells and 15404 genes.\n",
      "  Calculating graph and diffusion operator...\n",
      "    Calculating PCA...\n",
      "    Calculated PCA in 26.04 seconds.\n",
      "    Calculating KNN search...\n",
      "    Calculated KNN search in 1.83 seconds.\n",
      "    Calculating affinities...\n",
      "    Calculated affinities in 0.24 seconds.\n",
      "  Calculated graph and diffusion operator in 34.21 seconds.\n",
      "  Calculating landmark operator...\n",
      "    Calculating SVD...\n",
      "    Calculated SVD in 0.46 seconds.\n",
      "    Calculating KMeans...\n",
      "    Calculated KMeans in 13.91 seconds.\n",
      "  Calculated landmark operator in 15.34 seconds.\n",
      "  Calculating optimal t...\n",
      "  Calculated optimal t in 3.63 seconds.\n",
      "  Calculating diffusion potential...\n",
      "  Calculated diffusion potential in 0.66 seconds.\n",
      "  Calculating metric MDS...\n",
      "  Calculated metric MDS in 5.46 seconds.\n",
      "Calculated PHATE in 59.31 seconds.\n"
     ]
    },
    {
     "data": {
      "application/javascript": [
       "\n",
       "            setTimeout(function() {\n",
       "                var nbb_cell_id = 8;\n",
       "                var nbb_unformatted_code = \"import phate\\n\\nphate_op = phate.PHATE()\\ndata_phate = phate_op.fit_transform(data)\";\n",
       "                var nbb_formatted_code = \"import phate\\n\\nphate_op = phate.PHATE()\\ndata_phate = phate_op.fit_transform(data)\";\n",
       "                var nbb_cells = Jupyter.notebook.get_cells();\n",
       "                for (var i = 0; i < nbb_cells.length; ++i) {\n",
       "                    if (nbb_cells[i].input_prompt_number == nbb_cell_id) {\n",
       "                        if (nbb_cells[i].get_text() == nbb_unformatted_code) {\n",
       "                             nbb_cells[i].set_text(nbb_formatted_code);\n",
       "                        }\n",
       "                        break;\n",
       "                    }\n",
       "                }\n",
       "            }, 500);\n",
       "            "
      ],
      "text/plain": [
       "<IPython.core.display.Javascript object>"
      ]
     },
     "metadata": {},
     "output_type": "display_data"
    }
   ],
   "source": [
    "import phate\n",
    "\n",
    "phate_op = phate.PHATE()\n",
    "data_phate = phate_op.fit_transform(data)"
   ]
  },
  {
   "cell_type": "code",
   "execution_count": null,
   "metadata": {},
   "outputs": [],
   "source": []
  },
  {
   "cell_type": "code",
   "execution_count": 9,
   "metadata": {},
   "outputs": [
    {
     "data": {
      "application/javascript": [
       "\n",
       "            setTimeout(function() {\n",
       "                var nbb_cell_id = 9;\n",
       "                var nbb_unformatted_code = \"### Running CATCH\";\n",
       "                var nbb_formatted_code = \"### Running CATCH\";\n",
       "                var nbb_cells = Jupyter.notebook.get_cells();\n",
       "                for (var i = 0; i < nbb_cells.length; ++i) {\n",
       "                    if (nbb_cells[i].input_prompt_number == nbb_cell_id) {\n",
       "                        if (nbb_cells[i].get_text() == nbb_unformatted_code) {\n",
       "                             nbb_cells[i].set_text(nbb_formatted_code);\n",
       "                        }\n",
       "                        break;\n",
       "                    }\n",
       "                }\n",
       "            }, 500);\n",
       "            "
      ],
      "text/plain": [
       "<IPython.core.display.Javascript object>"
      ]
     },
     "metadata": {},
     "output_type": "display_data"
    }
   ],
   "source": [
    "### Running CATCH"
   ]
  },
  {
   "cell_type": "code",
   "execution_count": 31,
   "metadata": {},
   "outputs": [
    {
     "data": {
      "application/javascript": [
       "\n",
       "            setTimeout(function() {\n",
       "                var nbb_cell_id = 31;\n",
       "                var nbb_unformatted_code = \"catch_op = CATCH(knn=10, random_state=1, n_pca=25, n_jobs=5)\";\n",
       "                var nbb_formatted_code = \"catch_op = CATCH(knn=10, random_state=1, n_pca=25, n_jobs=5)\";\n",
       "                var nbb_cells = Jupyter.notebook.get_cells();\n",
       "                for (var i = 0; i < nbb_cells.length; ++i) {\n",
       "                    if (nbb_cells[i].input_prompt_number == nbb_cell_id) {\n",
       "                        if (nbb_cells[i].get_text() == nbb_unformatted_code) {\n",
       "                             nbb_cells[i].set_text(nbb_formatted_code);\n",
       "                        }\n",
       "                        break;\n",
       "                    }\n",
       "                }\n",
       "            }, 500);\n",
       "            "
      ],
      "text/plain": [
       "<IPython.core.display.Javascript object>"
      ]
     },
     "metadata": {},
     "output_type": "display_data"
    }
   ],
   "source": [
    "catch_op = CATCH(knn=10, random_state=1, n_pca=25, n_jobs=5)"
   ]
  },
  {
   "cell_type": "code",
   "execution_count": 32,
   "metadata": {},
   "outputs": [
    {
     "name": "stdout",
     "output_type": "stream",
     "text": [
      "Calculating PCA...\n",
      "Calculated PCA in 15.43 seconds.\n",
      "Calculating Diffusion Condensation...\n",
      "  Calculating Condensation Parameters...\n",
      "  Calculated Condensation Parameters in 3.16 seconds.\n",
      "Calculated Diffusion Condensation in 67.50 seconds.\n"
     ]
    },
    {
     "data": {
      "application/javascript": [
       "\n",
       "            setTimeout(function() {\n",
       "                var nbb_cell_id = 32;\n",
       "                var nbb_unformatted_code = \"catch_op.fit(data)\";\n",
       "                var nbb_formatted_code = \"catch_op.fit(data)\";\n",
       "                var nbb_cells = Jupyter.notebook.get_cells();\n",
       "                for (var i = 0; i < nbb_cells.length; ++i) {\n",
       "                    if (nbb_cells[i].input_prompt_number == nbb_cell_id) {\n",
       "                        if (nbb_cells[i].get_text() == nbb_unformatted_code) {\n",
       "                             nbb_cells[i].set_text(nbb_formatted_code);\n",
       "                        }\n",
       "                        break;\n",
       "                    }\n",
       "                }\n",
       "            }, 500);\n",
       "            "
      ],
      "text/plain": [
       "<IPython.core.display.Javascript object>"
      ]
     },
     "metadata": {},
     "output_type": "display_data"
    }
   ],
   "source": [
    "catch_op.fit(data)"
   ]
  },
  {
   "cell_type": "code",
   "execution_count": 33,
   "metadata": {},
   "outputs": [
    {
     "name": "stdout",
     "output_type": "stream",
     "text": [
      "Calculating Topological Activity...\n"
     ]
    },
    {
     "data": {
      "application/javascript": [
       "\n",
       "            setTimeout(function() {\n",
       "                var nbb_cell_id = 33;\n",
       "                var nbb_unformatted_code = \"levels = catch_op.transform()\";\n",
       "                var nbb_formatted_code = \"levels = catch_op.transform()\";\n",
       "                var nbb_cells = Jupyter.notebook.get_cells();\n",
       "                for (var i = 0; i < nbb_cells.length; ++i) {\n",
       "                    if (nbb_cells[i].input_prompt_number == nbb_cell_id) {\n",
       "                        if (nbb_cells[i].get_text() == nbb_unformatted_code) {\n",
       "                             nbb_cells[i].set_text(nbb_formatted_code);\n",
       "                        }\n",
       "                        break;\n",
       "                    }\n",
       "                }\n",
       "            }, 500);\n",
       "            "
      ],
      "text/plain": [
       "<IPython.core.display.Javascript object>"
      ]
     },
     "metadata": {},
     "output_type": "display_data"
    }
   ],
   "source": [
    "levels = catch_op.transform()"
   ]
  },
  {
   "cell_type": "code",
   "execution_count": 35,
   "metadata": {},
   "outputs": [
    {
     "data": {
      "text/plain": [
       "array([-105,  -99,  -95,  -86,  -80,  -78,  -76,  -72,  -70,  -65,  -61,\n",
       "        -56,  -53,  -46,  -35,  -31,  -26,  -21,  -18,  -10])"
      ]
     },
     "execution_count": 35,
     "metadata": {},
     "output_type": "execute_result"
    },
    {
     "data": {
      "application/javascript": [
       "\n",
       "            setTimeout(function() {\n",
       "                var nbb_cell_id = 35;\n",
       "                var nbb_unformatted_code = \"levels\";\n",
       "                var nbb_formatted_code = \"levels\";\n",
       "                var nbb_cells = Jupyter.notebook.get_cells();\n",
       "                for (var i = 0; i < nbb_cells.length; ++i) {\n",
       "                    if (nbb_cells[i].input_prompt_number == nbb_cell_id) {\n",
       "                        if (nbb_cells[i].get_text() == nbb_unformatted_code) {\n",
       "                             nbb_cells[i].set_text(nbb_formatted_code);\n",
       "                        }\n",
       "                        break;\n",
       "                    }\n",
       "                }\n",
       "            }, 500);\n",
       "            "
      ],
      "text/plain": [
       "<IPython.core.display.Javascript object>"
      ]
     },
     "metadata": {},
     "output_type": "display_data"
    }
   ],
   "source": [
    "levels"
   ]
  },
  {
   "cell_type": "code",
   "execution_count": 34,
   "metadata": {},
   "outputs": [
    {
     "data": {
      "text/plain": [
       "113"
      ]
     },
     "execution_count": 34,
     "metadata": {},
     "output_type": "execute_result"
    },
    {
     "data": {
      "application/javascript": [
       "\n",
       "            setTimeout(function() {\n",
       "                var nbb_cell_id = 34;\n",
       "                var nbb_unformatted_code = \"len(catch_op.NxTs)\";\n",
       "                var nbb_formatted_code = \"len(catch_op.NxTs)\";\n",
       "                var nbb_cells = Jupyter.notebook.get_cells();\n",
       "                for (var i = 0; i < nbb_cells.length; ++i) {\n",
       "                    if (nbb_cells[i].input_prompt_number == nbb_cell_id) {\n",
       "                        if (nbb_cells[i].get_text() == nbb_unformatted_code) {\n",
       "                             nbb_cells[i].set_text(nbb_formatted_code);\n",
       "                        }\n",
       "                        break;\n",
       "                    }\n",
       "                }\n",
       "            }, 500);\n",
       "            "
      ],
      "text/plain": [
       "<IPython.core.display.Javascript object>"
      ]
     },
     "metadata": {},
     "output_type": "display_data"
    }
   ],
   "source": [
    "len(catch_op.NxTs)"
   ]
  },
  {
   "cell_type": "code",
   "execution_count": 38,
   "metadata": {},
   "outputs": [
    {
     "data": {
      "text/plain": [
       "[<matplotlib.lines.Line2D at 0x7fe6f51774f0>]"
      ]
     },
     "execution_count": 38,
     "metadata": {},
     "output_type": "execute_result"
    },
    {
     "data": {
      "image/png": "[encoded data removed]",
      "text/plain": [
       "<Figure size 432x288 with 1 Axes>"
      ]
     },
     "metadata": {
      "needs_background": "light"
     },
     "output_type": "display_data"
    },
    {
     "data": {
      "application/javascript": [
       "\n",
       "            setTimeout(function() {\n",
       "                var nbb_cell_id = 38;\n",
       "                var nbb_unformatted_code = \"import matplotlib.pyplot as plt\\n\\nplt.plot(catch_op.gradient)\";\n",
       "                var nbb_formatted_code = \"import matplotlib.pyplot as plt\\n\\nplt.plot(catch_op.gradient)\";\n",
       "                var nbb_cells = Jupyter.notebook.get_cells();\n",
       "                for (var i = 0; i < nbb_cells.length; ++i) {\n",
       "                    if (nbb_cells[i].input_prompt_number == nbb_cell_id) {\n",
       "                        if (nbb_cells[i].get_text() == nbb_unformatted_code) {\n",
       "                             nbb_cells[i].set_text(nbb_formatted_code);\n",
       "                        }\n",
       "                        break;\n",
       "                    }\n",
       "                }\n",
       "            }, 500);\n",
       "            "
      ],
      "text/plain": [
       "<IPython.core.display.Javascript object>"
      ]
     },
     "metadata": {},
     "output_type": "display_data"
    }
   ],
   "source": [
    "import matplotlib.pyplot as plt\n",
    "\n",
    "plt.plot(catch_op.gradient)"
   ]
  },
  {
   "cell_type": "code",
   "execution_count": 37,
   "metadata": {},
   "outputs": [
    {
     "data": {
      "text/plain": [
       "<AxesSubplot:xlabel='PHATE1', ylabel='PHATE2'>"
      ]
     },
     "execution_count": 37,
     "metadata": {},
     "output_type": "execute_result"
    },
    {
     "data": {
      "image/png": "[encoded data removed]",
      "text/plain": [
       "<Figure size 576x432 with 1 Axes>"
      ]
     },
     "metadata": {},
     "output_type": "display_data"
    },
    {
     "data": {
      "application/javascript": [
       "\n",
       "            setTimeout(function() {\n",
       "                var nbb_cell_id = 37;\n",
       "                var nbb_unformatted_code = \"import scprep\\n\\nscprep.plot.scatter2d(\\n    data_phate,\\n    c=catch_op.NxTs[levels[-4]],\\n    fontsize=16,\\n    s=50,\\n    legend=False,\\n    ticks=False,\\n    label_prefix=\\\"PHATE\\\",\\n    figsize=(8, 6),\\n)\";\n",
       "                var nbb_formatted_code = \"import scprep\\n\\nscprep.plot.scatter2d(\\n    data_phate,\\n    c=catch_op.NxTs[levels[-4]],\\n    fontsize=16,\\n    s=50,\\n    legend=False,\\n    ticks=False,\\n    label_prefix=\\\"PHATE\\\",\\n    figsize=(8, 6),\\n)\";\n",
       "                var nbb_cells = Jupyter.notebook.get_cells();\n",
       "                for (var i = 0; i < nbb_cells.length; ++i) {\n",
       "                    if (nbb_cells[i].input_prompt_number == nbb_cell_id) {\n",
       "                        if (nbb_cells[i].get_text() == nbb_unformatted_code) {\n",
       "                             nbb_cells[i].set_text(nbb_formatted_code);\n",
       "                        }\n",
       "                        break;\n",
       "                    }\n",
       "                }\n",
       "            }, 500);\n",
       "            "
      ],
      "text/plain": [
       "<IPython.core.display.Javascript object>"
      ]
     },
     "metadata": {},
     "output_type": "display_data"
    }
   ],
   "source": [
    "import scprep\n",
    "\n",
    "scprep.plot.scatter2d(\n",
    "    data_phate,\n",
    "    c=catch_op.NxTs[levels[-4]],\n",
    "    fontsize=16,\n",
    "    s=50,\n",
    "    legend=False,\n",
    "    ticks=False,\n",
    "    label_prefix=\"PHATE\",\n",
    "    figsize=(8, 6),\n",
    ")"
   ]
  },
  {
   "cell_type": "code",
   "execution_count": 40,
   "metadata": {},
   "outputs": [
    {
     "data": {
      "text/plain": [
       "<AxesSubplot:xlabel='PHATE1', ylabel='PHATE2'>"
      ]
     },
     "execution_count": 40,
     "metadata": {},
     "output_type": "execute_result"
    },
    {
     "data": {
      "image/png": "[encoded data removed]",
      "text/plain": [
       "<Figure size 576x432 with 1 Axes>"
      ]
     },
     "metadata": {},
     "output_type": "display_data"
    },
    {
     "data": {
      "application/javascript": [
       "\n",
       "            setTimeout(function() {\n",
       "                var nbb_cell_id = 40;\n",
       "                var nbb_unformatted_code = \"scprep.plot.scatter2d(\\n    data_phate,\\n    c=catch_op.NxTs[levels[-7]],\\n    fontsize=16,\\n    s=50,\\n    legend=False,\\n    ticks=False,\\n    label_prefix=\\\"PHATE\\\",\\n    figsize=(8, 6),\\n)\";\n",
       "                var nbb_formatted_code = \"scprep.plot.scatter2d(\\n    data_phate,\\n    c=catch_op.NxTs[levels[-7]],\\n    fontsize=16,\\n    s=50,\\n    legend=False,\\n    ticks=False,\\n    label_prefix=\\\"PHATE\\\",\\n    figsize=(8, 6),\\n)\";\n",
       "                var nbb_cells = Jupyter.notebook.get_cells();\n",
       "                for (var i = 0; i < nbb_cells.length; ++i) {\n",
       "                    if (nbb_cells[i].input_prompt_number == nbb_cell_id) {\n",
       "                        if (nbb_cells[i].get_text() == nbb_unformatted_code) {\n",
       "                             nbb_cells[i].set_text(nbb_formatted_code);\n",
       "                        }\n",
       "                        break;\n",
       "                    }\n",
       "                }\n",
       "            }, 500);\n",
       "            "
      ],
      "text/plain": [
       "<IPython.core.display.Javascript object>"
      ]
     },
     "metadata": {},
     "output_type": "display_data"
    }
   ],
   "source": [
    "scprep.plot.scatter2d(\n",
    "    data_phate,\n",
    "    c=catch_op.NxTs[levels[-7]],\n",
    "    fontsize=16,\n",
    "    s=50,\n",
    "    legend=False,\n",
    "    ticks=False,\n",
    "    label_prefix=\"PHATE\",\n",
    "    figsize=(8, 6),\n",
    ")"
   ]
  },
  {
   "cell_type": "code",
   "execution_count": null,
   "metadata": {},
   "outputs": [],
   "source": []
  }
 ],
 "metadata": {
  "kernelspec": {
   "display_name": "Python 3",
   "language": "python",
   "name": "python3"
  },
  "language_info": {
   "codemirror_mode": {
    "name": "ipython",
    "version": 3
   },
   "file_extension": ".py",
   "mimetype": "text/x-python",
   "name": "python",
   "nbconvert_exporter": "python",
   "pygments_lexer": "ipython3",
   "version": "3.8.5"
  }
 },
 "nbformat": 4,
 "nbformat_minor": 4
}
